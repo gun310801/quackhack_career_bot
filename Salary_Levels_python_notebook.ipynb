{
 "cells": [
  {
   "cell_type": "code",
   "execution_count": null,
   "id": "28582b9a",
   "metadata": {},
   "outputs": [],
   "source": [
    "import pandas as pd"
   ]
  },
  {
   "cell_type": "code",
   "execution_count": 42,
   "id": "3a4950b8",
   "metadata": {},
   "outputs": [
    {
     "name": "stderr",
     "output_type": "stream",
     "text": [
      "C:\\Users\\omgan\\AppData\\Local\\Temp\\ipykernel_10104\\4091793053.py:10: SettingWithCopyWarning: \n",
      "A value is trying to be set on a copy of a slice from a DataFrame.\n",
      "Try using .loc[row_indexer,col_indexer] = value instead\n",
      "\n",
      "See the caveats in the documentation: https://pandas.pydata.org/pandas-docs/stable/user_guide/indexing.html#returning-a-view-versus-a-copy\n",
      "  df_cleaned['level'] = df_cleaned['level'].str.upper().str.strip()\n",
      "C:\\Users\\omgan\\AppData\\Local\\Temp\\ipykernel_10104\\4091793053.py:33: SettingWithCopyWarning: \n",
      "A value is trying to be set on a copy of a slice from a DataFrame.\n",
      "Try using .loc[row_indexer,col_indexer] = value instead\n",
      "\n",
      "See the caveats in the documentation: https://pandas.pydata.org/pandas-docs/stable/user_guide/indexing.html#returning-a-view-versus-a-copy\n",
      "  df_cleaned['level_bucket'] = df_cleaned['level'].apply(map_level)\n"
     ]
    }
   ],
   "source": [
    "# Load the dataset\n",
    "df = pd.read_csv(\"salary_trends.csv\")\n",
    "\n",
    "# Step 1: Drop rows with missing 'level' or 'totalyearlycompensation'\n",
    "df_cleaned = df.dropna(subset=['level', 'totalyearlycompensation'])\n",
    "\n",
    "# Step 2: Standardize 'level' values\n",
    "df_cleaned['level'] = df_cleaned['level'].str.upper().str.strip()\n",
    "\n",
    "# Step 3: Define function to bucketize levels\n",
    "def map_level(level_str):\n",
    "    level_str = level_str.upper()\n",
    "    if any(keyword in level_str for keyword in ['INTERN', 'NEW', 'JUNIOR', 'L1', 'I1', 'IC1']):\n",
    "        return 'Entry'\n",
    "    elif any(keyword in level_str for keyword in ['L2', 'I2', 'IC2', 'ASSOCIATE']):\n",
    "        return 'Entry'\n",
    "    elif any(keyword in level_str for keyword in ['L3', 'SDE I', 'ENGINEER I', 'I3', 'IC3']):\n",
    "        return 'Mid'\n",
    "    elif any(keyword in level_str for keyword in ['L4', 'SDE II', 'ENGINEER II', 'I4', 'IC4']):\n",
    "        return 'Mid'\n",
    "    elif any(keyword in level_str for keyword in ['L5', 'SENIOR', 'I5', 'IC5']):\n",
    "        return 'Senior'\n",
    "    elif any(keyword in level_str for keyword in ['L6', 'M1', 'MANAGER', 'I6', 'IC6']):\n",
    "        return 'Senior'\n",
    "    elif any(keyword in level_str for keyword in ['L7', 'M2', 'DIRECTOR', 'I7', 'IC7']):\n",
    "        return 'Director'\n",
    "    else:\n",
    "        return 'Other'\n",
    "\n",
    "# Step 4: Create level_bucket column\n",
    "df_cleaned['level_bucket'] = df_cleaned['level'].apply(map_level)\n",
    "\n",
    "# Step 5: Filter out \"Other\"\n",
    "df_filtered = df_cleaned[df_cleaned['level_bucket'] != 'Other']\n",
    "\n",
    "# Step 6: Create Table 1 DataFrame\n",
    "table1_df = df_filtered.groupby('level_bucket')['totalyearlycompensation'].describe()[['mean', '50%', '25%', '75%']]\n",
    "table1_df.rename(columns={'50%': 'median', '25%': 'Q1', '75%': 'Q3'}, inplace=True)\n",
    "table1_df.reset_index(inplace=True)\n",
    "\n",
    "# Step 7: Create Table 2 DataFrame\n",
    "table2_df = df_filtered.groupby(['company', 'level_bucket'])['totalyearlycompensation'].describe()[['mean', '50%', '25%', '75%']]\n",
    "table2_df.rename(columns={'50%': 'median', '25%': 'Q1', '75%': 'Q3'}, inplace=True)\n",
    "table2_df.reset_index(inplace=True)\n",
    "\n",
    "\n"
   ]
  },
  {
   "cell_type": "code",
   "execution_count": 43,
   "id": "cfbe5981",
   "metadata": {},
   "outputs": [
    {
     "name": "stdout",
     "output_type": "stream",
     "text": [
      "Table 1 - Compensation by Level Bucket:\n",
      "                        mean    median        Q1        Q3\n",
      "level_bucket                                             \n",
      "Director      391926.401869  340000.0  230000.0  500000.0\n",
      "Entry         134038.121171  122000.0   92000.0  163000.0\n",
      "Mid           189509.889409  179000.0  140000.0  233000.0\n",
      "Senior        254515.119372  230000.0  168500.0  315000.0\n"
     ]
    }
   ],
   "source": [
    "# Output results\n",
    "print(\"Table 1 - Compensation by Level Bucket:\\n\", table1)\n"
   ]
  },
  {
   "cell_type": "code",
   "execution_count": 44,
   "id": "6db65be0",
   "metadata": {},
   "outputs": [
    {
     "name": "stdout",
     "output_type": "stream",
     "text": [
      "\n",
      "Table 2 - Compensation by Company and Level Bucket:\n",
      "                                mean    median        Q1        Q3\n",
      "company      level_bucket                                        \n",
      "10x Genomics Entry         173000.0  173000.0  167000.0  179000.0\n",
      "             Mid           165000.0  165000.0  165000.0  165000.0\n",
      "             Senior        242000.0  242000.0  238000.0  246000.0\n",
      "23andMe      Entry         120000.0  120000.0  120000.0  120000.0\n",
      "             Mid           194000.0  194000.0  157000.0  231000.0\n",
      "...                             ...       ...       ...       ...\n",
      "zoom         Entry         100000.0  100000.0  100000.0  100000.0\n",
      "zoominfo     Entry         150000.0  150000.0  150000.0  150000.0\n",
      "zoox         Entry         160000.0  160000.0  160000.0  160000.0\n",
      "             Senior        263000.0  263000.0  227000.0  299000.0\n",
      " Google      Mid            91000.0   91000.0   91000.0   91000.0\n",
      "\n",
      "[3132 rows x 4 columns]\n"
     ]
    }
   ],
   "source": [
    "print(\"\\nTable 2 - Compensation by Company and Level Bucket:\\n\", table2)"
   ]
  },
  {
   "cell_type": "code",
   "execution_count": 45,
   "id": "c94f9bba",
   "metadata": {},
   "outputs": [
    {
     "name": "stdout",
     "output_type": "stream",
     "text": [
      "Table 1 DataFrame:\n",
      "   level_bucket           mean    median        Q1        Q3\n",
      "0     Director  391926.401869  340000.0  230000.0  500000.0\n",
      "1        Entry  134038.121171  122000.0   92000.0  163000.0\n",
      "2          Mid  189509.889409  179000.0  140000.0  233000.0\n",
      "3       Senior  254515.119372  230000.0  168500.0  315000.0\n"
     ]
    }
   ],
   "source": [
    "# Both tables are now accessible as DataFrames: table1_df and table2_df\n",
    "print(\"Table 1 DataFrame:\\n\", table1_df.head())\n"
   ]
  },
  {
   "cell_type": "code",
   "execution_count": 47,
   "id": "12441b71",
   "metadata": {},
   "outputs": [
    {
     "name": "stdout",
     "output_type": "stream",
     "text": [
      "\n",
      "Table 2 DataFrame:\n",
      "            company level_bucket      mean    median        Q1        Q3\n",
      "0     10x Genomics        Entry  173000.0  173000.0  167000.0  179000.0\n",
      "1     10x Genomics          Mid  165000.0  165000.0  165000.0  165000.0\n",
      "2     10x Genomics       Senior  242000.0  242000.0  238000.0  246000.0\n",
      "3          23andMe        Entry  120000.0  120000.0  120000.0  120000.0\n",
      "4          23andMe          Mid  194000.0  194000.0  157000.0  231000.0\n",
      "...            ...          ...       ...       ...       ...       ...\n",
      "3127          zoom        Entry  100000.0  100000.0  100000.0  100000.0\n",
      "3128      zoominfo        Entry  150000.0  150000.0  150000.0  150000.0\n",
      "3129          zoox        Entry  160000.0  160000.0  160000.0  160000.0\n",
      "3130          zoox       Senior  263000.0  263000.0  227000.0  299000.0\n",
      "3131        Google          Mid   91000.0   91000.0   91000.0   91000.0\n",
      "\n",
      "[3132 rows x 6 columns]\n"
     ]
    }
   ],
   "source": [
    "print(\"\\nTable 2 DataFrame:\\n\", table2_df)"
   ]
  },
  {
   "cell_type": "code",
   "execution_count": 52,
   "id": "7e2ae7cf",
   "metadata": {},
   "outputs": [
    {
     "data": {
      "text/html": [
       "<div>\n",
       "<style scoped>\n",
       "    .dataframe tbody tr th:only-of-type {\n",
       "        vertical-align: middle;\n",
       "    }\n",
       "\n",
       "    .dataframe tbody tr th {\n",
       "        vertical-align: top;\n",
       "    }\n",
       "\n",
       "    .dataframe thead th {\n",
       "        text-align: right;\n",
       "    }\n",
       "</style>\n",
       "<table border=\"1\" class=\"dataframe\">\n",
       "  <thead>\n",
       "    <tr style=\"text-align: right;\">\n",
       "      <th></th>\n",
       "      <th>company</th>\n",
       "      <th>level_bucket</th>\n",
       "      <th>mean</th>\n",
       "      <th>median</th>\n",
       "      <th>Q1</th>\n",
       "      <th>Q3</th>\n",
       "    </tr>\n",
       "  </thead>\n",
       "  <tbody>\n",
       "    <tr>\n",
       "      <th>100</th>\n",
       "      <td>Akamai</td>\n",
       "      <td>Director</td>\n",
       "      <td>377500.000000</td>\n",
       "      <td>377500.0</td>\n",
       "      <td>371250.0</td>\n",
       "      <td>383750.0</td>\n",
       "    </tr>\n",
       "    <tr>\n",
       "      <th>101</th>\n",
       "      <td>Akamai</td>\n",
       "      <td>Entry</td>\n",
       "      <td>82000.000000</td>\n",
       "      <td>82000.0</td>\n",
       "      <td>82000.0</td>\n",
       "      <td>82000.0</td>\n",
       "    </tr>\n",
       "    <tr>\n",
       "      <th>102</th>\n",
       "      <td>Akamai</td>\n",
       "      <td>Mid</td>\n",
       "      <td>125714.285714</td>\n",
       "      <td>135500.0</td>\n",
       "      <td>74750.0</td>\n",
       "      <td>163750.0</td>\n",
       "    </tr>\n",
       "    <tr>\n",
       "      <th>103</th>\n",
       "      <td>Akamai</td>\n",
       "      <td>Senior</td>\n",
       "      <td>186500.000000</td>\n",
       "      <td>197000.0</td>\n",
       "      <td>172500.0</td>\n",
       "      <td>219500.0</td>\n",
       "    </tr>\n",
       "    <tr>\n",
       "      <th>104</th>\n",
       "      <td>Akamai Technologies</td>\n",
       "      <td>Mid</td>\n",
       "      <td>157000.000000</td>\n",
       "      <td>157000.0</td>\n",
       "      <td>157000.0</td>\n",
       "      <td>157000.0</td>\n",
       "    </tr>\n",
       "    <tr>\n",
       "      <th>105</th>\n",
       "      <td>Akamai Technologies</td>\n",
       "      <td>Senior</td>\n",
       "      <td>152250.000000</td>\n",
       "      <td>153000.0</td>\n",
       "      <td>135250.0</td>\n",
       "      <td>170000.0</td>\n",
       "    </tr>\n",
       "    <tr>\n",
       "      <th>106</th>\n",
       "      <td>Akuna Capital</td>\n",
       "      <td>Entry</td>\n",
       "      <td>192750.000000</td>\n",
       "      <td>200000.0</td>\n",
       "      <td>185000.0</td>\n",
       "      <td>202500.0</td>\n",
       "    </tr>\n",
       "    <tr>\n",
       "      <th>107</th>\n",
       "      <td>Akuna Capital</td>\n",
       "      <td>Mid</td>\n",
       "      <td>200000.000000</td>\n",
       "      <td>200000.0</td>\n",
       "      <td>175000.0</td>\n",
       "      <td>225000.0</td>\n",
       "    </tr>\n",
       "    <tr>\n",
       "      <th>108</th>\n",
       "      <td>Alarm.com</td>\n",
       "      <td>Entry</td>\n",
       "      <td>115333.333333</td>\n",
       "      <td>118000.0</td>\n",
       "      <td>111500.0</td>\n",
       "      <td>120500.0</td>\n",
       "    </tr>\n",
       "    <tr>\n",
       "      <th>109</th>\n",
       "      <td>Alarm.com</td>\n",
       "      <td>Mid</td>\n",
       "      <td>136000.000000</td>\n",
       "      <td>136000.0</td>\n",
       "      <td>136000.0</td>\n",
       "      <td>136000.0</td>\n",
       "    </tr>\n",
       "  </tbody>\n",
       "</table>\n",
       "</div>"
      ],
      "text/plain": [
       "                 company level_bucket           mean    median        Q1  \\\n",
       "100               Akamai     Director  377500.000000  377500.0  371250.0   \n",
       "101               Akamai        Entry   82000.000000   82000.0   82000.0   \n",
       "102               Akamai          Mid  125714.285714  135500.0   74750.0   \n",
       "103               Akamai       Senior  186500.000000  197000.0  172500.0   \n",
       "104  Akamai Technologies          Mid  157000.000000  157000.0  157000.0   \n",
       "105  Akamai Technologies       Senior  152250.000000  153000.0  135250.0   \n",
       "106        Akuna Capital        Entry  192750.000000  200000.0  185000.0   \n",
       "107        Akuna Capital          Mid  200000.000000  200000.0  175000.0   \n",
       "108            Alarm.com        Entry  115333.333333  118000.0  111500.0   \n",
       "109            Alarm.com          Mid  136000.000000  136000.0  136000.0   \n",
       "\n",
       "           Q3  \n",
       "100  383750.0  \n",
       "101   82000.0  \n",
       "102  163750.0  \n",
       "103  219500.0  \n",
       "104  157000.0  \n",
       "105  170000.0  \n",
       "106  202500.0  \n",
       "107  225000.0  \n",
       "108  120500.0  \n",
       "109  136000.0  "
      ]
     },
     "execution_count": 52,
     "metadata": {},
     "output_type": "execute_result"
    }
   ],
   "source": [
    "table2_df[100:110]"
   ]
  },
  {
   "cell_type": "code",
   "execution_count": 53,
   "id": "a90032ef",
   "metadata": {},
   "outputs": [
    {
     "name": "stdout",
     "output_type": "stream",
     "text": [
      "Tables saved as CSV files.\n"
     ]
    }
   ],
   "source": [
    "# Save Table 1 to CSV\n",
    "table1_df.to_csv(\"Level_compensation_by_bucket.csv\", index=False)\n",
    "\n",
    "# Save Table 2 to CSV\n",
    "table2_df.to_csv(\"Level_compensation_by_company.csv\", index=False)\n",
    "\n",
    "print(\"Tables saved as CSV files.\")"
   ]
  },
  {
   "cell_type": "code",
   "execution_count": null,
   "id": "cd6e614e",
   "metadata": {},
   "outputs": [],
   "source": []
  },
  {
   "cell_type": "code",
   "execution_count": null,
   "id": "61848818",
   "metadata": {},
   "outputs": [],
   "source": []
  },
  {
   "cell_type": "code",
   "execution_count": null,
   "id": "a44039e9",
   "metadata": {},
   "outputs": [],
   "source": []
  }
 ],
 "metadata": {
  "kernelspec": {
   "display_name": "Python 3 (ipykernel)",
   "language": "python",
   "name": "python3"
  },
  "language_info": {
   "codemirror_mode": {
    "name": "ipython",
    "version": 3
   },
   "file_extension": ".py",
   "mimetype": "text/x-python",
   "name": "python",
   "nbconvert_exporter": "python",
   "pygments_lexer": "ipython3",
   "version": "3.9.13"
  }
 },
 "nbformat": 4,
 "nbformat_minor": 5
}
